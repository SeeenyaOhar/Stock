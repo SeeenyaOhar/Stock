{
 "cells": [
  {
   "cell_type": "code",
   "execution_count": 2,
   "metadata": {},
   "outputs": [],
   "source": [
    "import sys\n",
    "import os\n",
    "sys.path.append(\"D:\\\\Documents\\\\Code\\\\Stock\")\n",
    "from flask import Flask\n",
    "from NNS.inquiryProcessor.BERT.inquiryEstimatorBERT import InquiryAnalyzerBERT, InquiryAnalyzerBERTModel, InquiryAnalyzerDatasetManagerBERT"
   ]
  },
  {
   "cell_type": "code",
   "execution_count": 3,
   "metadata": {},
   "outputs": [],
   "source": [
    "# TODO: Insert the @stock.route(\"{route}\") here for the bot\n",
    "def process_message():\n",
    "    analyzer = get_analyzer(type=\"bert\")\n",
    "    message = \"What is up bro?\"  # assign message that has been sent by the user itself\n",
    "    print(analyzer.classify([message]))\n",
    "\n",
    "\n",
    "def get_analyzer(type: str):\n",
    "    '''Returns a message analyzer that can classify messages depending on the context.\n",
    "\n",
    "    Returns:\n",
    "        _type_: _description_\n",
    "    '''\n",
    "    if type == 'bert':\n",
    "        bert_model = InquiryAnalyzerBERTModel.from_file(os.path.normpath(os.getcwd()+ os.sep + os.pardir) + \"\\\\NNS\\\\inquiryProcessor\\\\InquiryEstimatorBERT_Model\", InquiryAnalyzerDatasetManagerBERT.get_ds(BATCH_SIZE=64), epochs=1000)\n",
    "        message_classifier = InquiryAnalyzerBERT(bert_model)\n",
    "        return message_classifier\n",
    "    else:\n",
    "        return None  # TODO: Fix this"
   ]
  },
  {
   "cell_type": "code",
   "execution_count": 4,
   "metadata": {},
   "outputs": [
    {
     "name": "stderr",
     "output_type": "stream",
     "text": [
      "D:\\Documents\\Code\\Stock\\NNS\\inquiryProcessor\\inquiryEstimatorBERT.py:256: FutureWarning: The error_bad_lines argument has been deprecated and will be removed in a future version.\n",
      "\n",
      "\n",
      "  npdataset = InquiryDataset.get_training_dataset()\n"
     ]
    },
    {
     "name": "stdout",
     "output_type": "stream",
     "text": [
      "(['WELCOME '], array([[0., 0., 0., 0., 0., 1., 0., 0., 0., 0.]], dtype=float32))\n"
     ]
    }
   ],
   "source": []
  }
 ],
 "metadata": {
  "interpreter": {
   "hash": "4f3b078249380ea762697f4f8f6aea77b3d6e43cbb1b18cbb73d8cde5aa597e7"
  },
  "kernelspec": {
   "display_name": "Python 3.9.10 64-bit (system)",
   "language": "python",
   "name": "python3"
  },
  "language_info": {
   "codemirror_mode": {
    "name": "ipython",
    "version": 3
   },
   "file_extension": ".py",
   "mimetype": "text/x-python",
   "name": "python",
   "nbconvert_exporter": "python",
   "pygments_lexer": "ipython3",
   "version": "3.9.7"
  },
  "orig_nbformat": 4
 },
 "nbformat": 4,
 "nbformat_minor": 2
}

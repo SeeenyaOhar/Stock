{
 "cells": [
  {
   "cell_type": "code",
   "execution_count": 4,
   "metadata": {},
   "outputs": [],
   "source": [
    "import os\n",
    "import sys\n",
    "sys.path.append(\"D:\\\\documents\\\\code\\\\Stock\\\\NNS\\\\inquiryProcessor\")\n",
    "import dataset\n",
    "import sqlaclhemy"
   ]
  },
  {
   "cell_type": "code",
   "execution_count": 5,
   "metadata": {},
   "outputs": [
    {
     "name": "stdout",
     "output_type": "stream",
     "text": [
      "D:\\documents\\code\\Stock\\NNS\\inquiryProcessor\\inquiries_dataset.csv\n"
     ]
    },
    {
     "name": "stderr",
     "output_type": "stream",
     "text": [
      "D:\\documents\\code\\Stock\\NNS\\inquiryProcessor\\dataset.py:36: FutureWarning: The error_bad_lines argument has been deprecated and will be removed in a future version. Use on_bad_lines in the future.\n",
      "\n",
      "\n",
      "  df = pd.read_csv(dataset_path, error_bad_lines=False)\n"
     ]
    }
   ],
   "source": [
    "ds = dataset.InquiryDataset.get_training_dataset(\"D:\\\\documents\\\\code\\\\Stock\\\\NNS\\\\inquiryProcessor\\\\inquiries_dataset.csv\")"
   ]
  },
  {
   "cell_type": "code",
   "execution_count": null,
   "metadata": {},
   "outputs": [],
   "source": [
    "[i[0] for i in ds]"
   ]
  },
  {
   "cell_type": "code",
   "execution_count": null,
   "metadata": {},
   "outputs": [],
   "source": []
  }
 ],
 "metadata": {
  "kernelspec": {
   "display_name": "Python 3.9.12 ('stock')",
   "language": "python",
   "name": "python3"
  },
  "language_info": {
   "codemirror_mode": {
    "name": "ipython",
    "version": 3
   },
   "file_extension": ".py",
   "mimetype": "text/x-python",
   "name": "python",
   "nbconvert_exporter": "python",
   "pygments_lexer": "ipython3",
   "version": "3.9.12"
  },
  "orig_nbformat": 4,
  "vscode": {
   "interpreter": {
    "hash": "1df89b56ed659f7c86d7a9c1369c6db407fa37ff5b58c80bc20ed9371b61c7e4"
   }
  }
 },
 "nbformat": 4,
 "nbformat_minor": 2
}
